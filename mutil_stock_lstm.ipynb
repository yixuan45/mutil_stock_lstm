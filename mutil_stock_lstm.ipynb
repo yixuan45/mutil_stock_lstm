{
 "cells": [
  {
   "cell_type": "markdown",
   "id": "5629ec990250e9e4",
   "metadata": {},
   "source": [
    "# Data"
   ]
  },
  {
   "cell_type": "code",
   "id": "initial_id",
   "metadata": {
    "collapsed": true,
    "ExecuteTime": {
     "end_time": "2025-10-30T09:43:20.042442Z",
     "start_time": "2025-10-30T09:43:20.035470Z"
    }
   },
   "source": "# !mutil_stock_lstm.py",
   "outputs": [],
   "execution_count": 1
  },
  {
   "cell_type": "markdown",
   "id": "4986b84e47aa3dab",
   "metadata": {},
   "source": [
    "# Import"
   ]
  },
  {
   "cell_type": "code",
   "id": "f3252681372f7649",
   "metadata": {
    "ExecuteTime": {
     "end_time": "2025-10-30T09:43:24.152099Z",
     "start_time": "2025-10-30T09:43:20.231743Z"
    }
   },
   "source": [
    "import sys\n",
    "import warnings\n",
    "# 屏蔽特定的 FutureWarning\n",
    "warnings.filterwarnings(\n",
    "    \"ignore\",\n",
    "    category=FutureWarning,\n",
    "    message=\"Setting an item of incompatible dtype is deprecated and will raise\"\n",
    ")\n",
    "sys.path.append(r\"e:\\pythonproject\\pythonproject\\code\\trade_test\")\n",
    "from slave import *\n",
    "from config import config\n",
    "from LSTMAPI import LSTMPredictorAPI"
   ],
   "outputs": [],
   "execution_count": 2
  },
  {
   "cell_type": "markdown",
   "id": "c7710e1b40422bbb",
   "metadata": {},
   "source": [
    "# Parameters"
   ]
  },
  {
   "cell_type": "code",
   "id": "b377642c16aa1d5a",
   "metadata": {
    "ExecuteTime": {
     "end_time": "2025-10-30T09:43:24.198827Z",
     "start_time": "2025-10-30T09:43:24.183867Z"
    }
   },
   "source": [
    "config_info = {\n",
    "    \"index\": {\n",
    "        \"irank\": {\n",
    "        }\n",
    "    },\n",
    "    \"main\": {\n",
    "        \"loss_p\": -0.01,\n",
    "        \"profit_p\": 0.02,\n",
    "        \"_alarm\": {\n",
    "            \"clear\": ['12:00'],\n",
    "            \"orders\": ['23:00']\n",
    "        },\n",
    "        \"_timer\": {\n",
    "            \"orders\": 60,\n",
    "            \"positions\": 1\n",
    "        },\n",
    "    },\n",
    "    \"trade\": {\n",
    "        \"amountusd\": 10000,\n",
    "        \"apikey\": \"xxxxx\",\n",
    "        \"apisets\": {\n",
    "            \"bbo\": \"QUEUE\",\n",
    "            \"count_cancel\": 5,\n",
    "            \"iceberg\": 10000,\n",
    "            \"offer_step\": 1,\n",
    "            \"retry\": 1,\n",
    "            \"timeInForce\": \"GTC\"\n",
    "        },\n",
    "        \"hold_time\": 10,\n",
    "        \"leverage\": 2,\n",
    "        \"orders_type\": \"BBO\",\n",
    "        \"position_type\": \"BBO\",\n",
    "        \"stop_iceberg\": 10000,\n",
    "        \"stop_interval\": 0.1,\n",
    "    }\n",
    "}\n"
   ],
   "outputs": [],
   "execution_count": 3
  },
  {
   "cell_type": "markdown",
   "id": "6d25303c3eea7d62",
   "metadata": {},
   "source": [
    "# Read"
   ]
  },
  {
   "cell_type": "code",
   "id": "d1b1bada92b4da35",
   "metadata": {
    "ExecuteTime": {
     "end_time": "2025-10-30T09:43:24.560042Z",
     "start_time": "2025-10-30T09:43:24.216779Z"
    }
   },
   "source": [
    "total_data = pd.read_csv(\"./data/total_data.csv\")\n",
    "total_data['t'] = total_data['t'] + 60000\n",
    "total_data = total_data.set_index('t')\n",
    "total_1h_data = pd.read_csv(\"./data/total_1h_data.csv\")\n",
    "total_1h_data = total_1h_data.set_index('t')"
   ],
   "outputs": [],
   "execution_count": 4
  },
  {
   "cell_type": "markdown",
   "id": "9371cbef81b0714d",
   "metadata": {},
   "source": [
    "# index"
   ]
  },
  {
   "cell_type": "code",
   "id": "f1891b870e2dc200",
   "metadata": {
    "ExecuteTime": {
     "end_time": "2025-10-30T09:43:24.606887Z",
     "start_time": "2025-10-30T09:43:24.593924Z"
    }
   },
   "source": [
    "\n",
    "class IRANK():\n",
    "\n",
    "    def __init__(self, paras, algoid):\n",
    "        self.paras = paras\n",
    "        self.algoid = algoid\n",
    "        self.total_data = total_data\n",
    "        self.total_1h_data = total_1h_data  # 到时候判断是否要进入的时候，就用时间戳减去60000一分钟数据，然后看整除，是否能够整除进入到模型中去检验\n",
    "        self.LSTMapi = LSTMPredictorAPI(model_path=None)\n",
    "        self.predict_data = 0\n",
    "        self.config = config\n",
    "        self.calculate()\n",
    "\n",
    "    def update(self, idx):\n",
    "        target_prod = []\n",
    "\n",
    "        if idx not in self.total_1h_data.index or idx - 150 * 60 * 60000 not in self.total_1h_data.index:\n",
    "            return target_prod\n",
    "\n",
    "        x_data = self.total_1h_data.loc[idx - 150 * 60 * 60000:idx]\n",
    "        y_values = self.LSTMapi.main(x_data)\n",
    "        self.predict_data = y_values\n",
    "\n",
    "        if self.total_data['c'].loc[idx] < y_values:\n",
    "            target_prod.append({'symbol': \"c\", 'side': 'BUY'})\n",
    "        else:\n",
    "            target_prod.append({'symbol': \"c\", 'side': 'SELL'})\n",
    "\n",
    "        return target_prod\n",
    "\n",
    "    def calculate(self):\n",
    "        pass"
   ],
   "outputs": [],
   "execution_count": 5
  },
  {
   "cell_type": "code",
   "id": "2d98f8df32af9cb2",
   "metadata": {
    "ExecuteTime": {
     "end_time": "2025-10-30T09:43:24.868437Z",
     "start_time": "2025-10-30T09:43:24.639799Z"
    }
   },
   "source": "irank = IRANK(config_info['index']['irank'], algoid='lstm_predict')",
   "outputs": [],
   "execution_count": 6
  },
  {
   "cell_type": "markdown",
   "id": "67b877b930edfedf",
   "metadata": {},
   "source": [
    "# Algo"
   ]
  },
  {
   "cell_type": "code",
   "id": "951a9eb3c286effa",
   "metadata": {
    "ExecuteTime": {
     "end_time": "2025-10-30T09:43:25.022561Z",
     "start_time": "2025-10-30T09:43:24.900887Z"
    }
   },
   "source": [
    "class MAIN(SLAVE):\n",
    "\n",
    "    def __init__(self):\n",
    "        algoid, config, client, index = None, config_info, None, None\n",
    "        self.config = config['main']\n",
    "        self.irank = irank\n",
    "        super().__init__(client=client, paras=config['trade'], algoid=algoid)\n",
    "\n",
    "    def x_orders(self):\n",
    "        order_time = HELPER.last_kline_time()\n",
    "        target_prod = self.irank.update(order_time)\n",
    "        if len(target_prod) == 0:\n",
    "            return\n",
    "        for s in target_prod:\n",
    "            symbol = s[\"symbol\"]\n",
    "            if symbol in self.infos['positions'].keys() and self.infos['positions'][symbol] > 0:\n",
    "                target_prod.remove(s)\n",
    "        for s in target_prod:\n",
    "            symbol = s[\"symbol\"]\n",
    "            if symbol not in self.caches:\n",
    "                self.caches[symbol] = {}\n",
    "                self.caches[symbol]['open_time'] = []\n",
    "                self.caches[symbol]['open_price'] = []\n",
    "                self.caches[symbol]['close_time'] = []\n",
    "                self.caches[symbol]['close_price'] = []\n",
    "            self.caches[symbol]['open_time'].append(order_time)\n",
    "            self.caches[symbol]['open_price'].append(total_data[symbol].loc[order_time])\n",
    "        self.slave_orders(target_prod)\n",
    "\n",
    "    def x_positions(self):\n",
    "\n",
    "        if self.infos['total_abs_positions'] == 0:\n",
    "            return 1\n",
    "        action_info = {}\n",
    "        current_time = HELPER.last_ticker_time()\n",
    "        for s in self.infos[\"positions\"].keys():\n",
    "\n",
    "            if self.infos['profits'][s] < self.config['loss_p'] * self.infos['abs_originals'][s]:\n",
    "                action_info[s] = 'stop'\n",
    "\n",
    "            elif self.infos['profits'][s] > self.config['profit_p'] * self.infos['abs_originals'][s]:\n",
    "                action_info[s] = 'take_profit'\n",
    "\n",
    "            elif current_time in total_1h_data.index:\n",
    "                if self.infos[\"positions\"][s] > 0 and irank.predict_data < HELPER.ticker_price(s):\n",
    "                    action_info[s] = 'stop'\n",
    "\n",
    "                elif self.infos['positions'][s] < 0 and irank.predict_data > HELPER.ticker_price(s):\n",
    "                    action_info[s] = 'take_profit'\n",
    "\n",
    "        if not action_info:\n",
    "            return 0\n",
    "\n",
    "        for s in action_info.keys():\n",
    "            self.caches[s]['close_time'].append(current_time)\n",
    "            self.caches[s]['close_price'].append(total_data[s].loc[current_time])\n",
    "        result_cur = self.slave_positions(action_info)\n",
    "        return result_cur\n",
    "\n",
    "    # def x_clear(self):\n",
    "    #     self.base_clear()"
   ],
   "outputs": [],
   "execution_count": 7
  },
  {
   "cell_type": "code",
   "id": "38fac6c4b5799287",
   "metadata": {
    "ExecuteTime": {
     "end_time": "2025-10-30T09:43:25.067444Z",
     "start_time": "2025-10-30T09:43:25.054476Z"
    }
   },
   "source": [
    "main = MAIN()"
   ],
   "outputs": [],
   "execution_count": 8
  },
  {
   "cell_type": "code",
   "id": "f8a333d933b9663f",
   "metadata": {
    "ExecuteTime": {
     "end_time": "2025-10-30T09:43:25.099203Z",
     "start_time": "2025-10-30T09:43:25.084396Z"
    }
   },
   "source": [
    "def job(day):\n",
    "    result = []\n",
    "\n",
    "    for idx in tqdm(day):\n",
    "        HELPER.update(idx, total_data)\n",
    "        main.base_infos()\n",
    "\n",
    "        result_cur = main.x_positions()\n",
    "\n",
    "        if type(result_cur) != int:\n",
    "            result += result_cur\n",
    "\n",
    "        main.base_infos()\n",
    "\n",
    "        if main.infos['total_abs_positions'] == 0:\n",
    "            main.x_orders()\n",
    "\n",
    "    main.base_infos()\n",
    "    result_cur = HELPER.profit(infos=main.infos, method=\"down_over20%\")\n",
    "    if result_cur is not None:\n",
    "        if result_cur[0][1] == 0:\n",
    "            # main.base_infos()\n",
    "            # main.x_orders()\n",
    "            return result\n",
    "\n",
    "        result += result_cur\n",
    "    return result"
   ],
   "outputs": [],
   "execution_count": 9
  },
  {
   "cell_type": "code",
   "id": "a1e56383ace17880",
   "metadata": {
    "ExecuteTime": {
     "end_time": "2025-10-30T09:47:39.322663Z",
     "start_time": "2025-10-30T09:43:25.165658Z"
    }
   },
   "source": "result = HELPER.driver(df=total_data, job=job, n_jobs=1,start='2025-01-01', end='2025-10-28')",
   "outputs": [
    {
     "name": "stderr",
     "output_type": "stream",
     "text": [
      "100%|██████████| 431519/431519 [04:13<00:00, 1700.02it/s]\n"
     ]
    }
   ],
   "execution_count": 10
  },
  {
   "cell_type": "code",
   "id": "1f05d97acdb32df",
   "metadata": {
    "ExecuteTime": {
     "end_time": "2025-10-30T09:47:39.383455Z",
     "start_time": "2025-10-30T09:47:39.360561Z"
    }
   },
   "source": [
    "result_df = pd.DataFrame(result)\n",
    "result_df"
   ],
   "outputs": [
    {
     "data": {
      "text/plain": [
       "                  0          1\n",
       "0     1736236860000  -13.00000\n",
       "1     1736240460000   23.00000\n",
       "2     1736244060000  -46.00000\n",
       "3     1736247660000   -5.00000\n",
       "4     1736260620000 -105.00000\n",
       "...             ...        ...\n",
       "5964  1761566460000  -21.00000\n",
       "5965  1761570060000  -28.00000\n",
       "5966  1761573660000   75.00000\n",
       "5967  1761574800000 -105.00000\n",
       "5968  1761580740000   53.75787\n",
       "\n",
       "[5969 rows x 2 columns]"
      ],
      "text/html": [
       "<div>\n",
       "<style scoped>\n",
       "    .dataframe tbody tr th:only-of-type {\n",
       "        vertical-align: middle;\n",
       "    }\n",
       "\n",
       "    .dataframe tbody tr th {\n",
       "        vertical-align: top;\n",
       "    }\n",
       "\n",
       "    .dataframe thead th {\n",
       "        text-align: right;\n",
       "    }\n",
       "</style>\n",
       "<table border=\"1\" class=\"dataframe\">\n",
       "  <thead>\n",
       "    <tr style=\"text-align: right;\">\n",
       "      <th></th>\n",
       "      <th>0</th>\n",
       "      <th>1</th>\n",
       "    </tr>\n",
       "  </thead>\n",
       "  <tbody>\n",
       "    <tr>\n",
       "      <th>0</th>\n",
       "      <td>1736236860000</td>\n",
       "      <td>-13.00000</td>\n",
       "    </tr>\n",
       "    <tr>\n",
       "      <th>1</th>\n",
       "      <td>1736240460000</td>\n",
       "      <td>23.00000</td>\n",
       "    </tr>\n",
       "    <tr>\n",
       "      <th>2</th>\n",
       "      <td>1736244060000</td>\n",
       "      <td>-46.00000</td>\n",
       "    </tr>\n",
       "    <tr>\n",
       "      <th>3</th>\n",
       "      <td>1736247660000</td>\n",
       "      <td>-5.00000</td>\n",
       "    </tr>\n",
       "    <tr>\n",
       "      <th>4</th>\n",
       "      <td>1736260620000</td>\n",
       "      <td>-105.00000</td>\n",
       "    </tr>\n",
       "    <tr>\n",
       "      <th>...</th>\n",
       "      <td>...</td>\n",
       "      <td>...</td>\n",
       "    </tr>\n",
       "    <tr>\n",
       "      <th>5964</th>\n",
       "      <td>1761566460000</td>\n",
       "      <td>-21.00000</td>\n",
       "    </tr>\n",
       "    <tr>\n",
       "      <th>5965</th>\n",
       "      <td>1761570060000</td>\n",
       "      <td>-28.00000</td>\n",
       "    </tr>\n",
       "    <tr>\n",
       "      <th>5966</th>\n",
       "      <td>1761573660000</td>\n",
       "      <td>75.00000</td>\n",
       "    </tr>\n",
       "    <tr>\n",
       "      <th>5967</th>\n",
       "      <td>1761574800000</td>\n",
       "      <td>-105.00000</td>\n",
       "    </tr>\n",
       "    <tr>\n",
       "      <th>5968</th>\n",
       "      <td>1761580740000</td>\n",
       "      <td>53.75787</td>\n",
       "    </tr>\n",
       "  </tbody>\n",
       "</table>\n",
       "<p>5969 rows × 2 columns</p>\n",
       "</div>"
      ]
     },
     "execution_count": 11,
     "metadata": {},
     "output_type": "execute_result"
    }
   ],
   "execution_count": 11
  },
  {
   "cell_type": "code",
   "id": "f8f82b4ba8aa64f3",
   "metadata": {
    "ExecuteTime": {
     "end_time": "2025-10-30T09:47:39.852109Z",
     "start_time": "2025-10-30T09:47:39.524382Z"
    }
   },
   "source": [
    "fig, axes, arr = PLOT.profit(result=result, amountusd=config_info['trade']['amountusd'], freq='D')"
   ],
   "outputs": [
    {
     "data": {
      "text/plain": [
       "<Figure size 640x480 with 2 Axes>"
      ],
      "image/png": "[encoded data removed]"
     },
     "metadata": {},
     "output_type": "display_data"
    }
   ],
   "execution_count": 12
  },
  {
   "metadata": {
    "ExecuteTime": {
     "end_time": "2025-10-30T09:47:39.959936Z",
     "start_time": "2025-10-30T09:47:39.945973Z"
    }
   },
   "cell_type": "code",
   "source": "",
   "id": "594d7116be324232",
   "outputs": [],
   "execution_count": null
  }
 ],
 "metadata": {
  "kernelspec": {
   "display_name": "yyx",
   "language": "python",
   "name": "python3"
  },
  "language_info": {
   "codemirror_mode": {
    "name": "ipython",
    "version": 3
   },
   "file_extension": ".py",
   "mimetype": "text/x-python",
   "name": "python",
   "nbconvert_exporter": "python",
   "pygments_lexer": "ipython3",
   "version": "3.10.16"
  }
 },
 "nbformat": 4,
 "nbformat_minor": 5
}
